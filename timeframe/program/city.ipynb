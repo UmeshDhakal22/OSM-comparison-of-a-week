{
 "cells": [
  {
   "cell_type": "code",
   "execution_count": 34,
   "id": "3c61969a",
   "metadata": {},
   "outputs": [],
   "source": [
    "import osmium\n",
    "import folium"
   ]
  },
  {
   "cell_type": "code",
   "execution_count": 35,
   "id": "97b17fa3",
   "metadata": {},
   "outputs": [],
   "source": [
    "class CityHandler(osmium.SimpleHandler):\n",
    "    def __init__(self, min_lat, max_lat, min_lon, max_lon):\n",
    "        super().__init__()\n",
    "        self.min_lat = min_lat\n",
    "        self.max_lat = max_lat\n",
    "        self.min_lon = min_lon\n",
    "        self.max_lon = max_lon\n",
    "        self.nodes = []"
   ]
  },
  {
   "cell_type": "code",
   "execution_count": 36,
   "id": "19526bf5",
   "metadata": {},
   "outputs": [],
   "source": [
    "  def node(self, n):\n",
    "        # Check if node is within the desired city boundaries\n",
    "        if self.min_lat <= n.location.lat <= self.max_lat and self.min_lon <= n.location.lon <= self.max_lon:\n",
    "            # Extract node coordinates and add to list\n",
    "            self.nodes.append((n.location.lon, n.location.lat))"
   ]
  },
  {
   "cell_type": "code",
   "execution_count": 43,
   "id": "933b588e",
   "metadata": {},
   "outputs": [],
   "source": [
    "# Specify the city boundaries for Kathmandu as latitude and longitude coordinates\n",
    "min_lat = 27.5917\n",
    "max_lat = 27.7850\n",
    "min_lon = 85.2519\n",
    "max_lon = 85.4222"
   ]
  },
  {
   "cell_type": "code",
   "execution_count": 44,
   "id": "7955158d",
   "metadata": {},
   "outputs": [],
   "source": [
    "osc_file_path = \"C:/Users/97798/Desktop/office/timeframe/195.osc\""
   ]
  },
  {
   "cell_type": "code",
   "execution_count": 45,
   "id": "0c05025c",
   "metadata": {},
   "outputs": [],
   "source": [
    "# Read .osc file with custom handler\n",
    "handler = CityHandler(min_lat, max_lat, min_lon, max_lon)\n",
    "reader = osmium.io.Reader(osc_file_path)\n",
    "osmium.apply(reader, handler)\n",
    "reader.close()"
   ]
  },
  {
   "cell_type": "code",
   "execution_count": 46,
   "id": "6fe8b4f1",
   "metadata": {},
   "outputs": [],
   "source": [
    "nodes = handler.nodes"
   ]
  },
  {
   "cell_type": "code",
   "execution_count": 47,
   "id": "76287d14",
   "metadata": {},
   "outputs": [],
   "source": [
    "avg_latitude = 0.0\n",
    "avg_longitude = 0.0\n"
   ]
  },
  {
   "cell_type": "code",
   "execution_count": 48,
   "id": "ded58c3f",
   "metadata": {},
   "outputs": [],
   "source": [
    "if nodes:\n",
    "    # Calculate average latitudes and longitudes\n",
    "    avg_latitude = sum([n[1] for n in nodes])/len(nodes)\n",
    "    avg_longitude = sum([n[0] for n in nodes])/len(nodes)"
   ]
  },
  {
   "cell_type": "code",
   "execution_count": 49,
   "id": "b477a2f1",
   "metadata": {},
   "outputs": [],
   "source": [
    "m = folium.Map(location=[avg_latitude, avg_longitude], zoom_start=14)"
   ]
  },
  {
   "cell_type": "code",
   "execution_count": 50,
   "id": "9676bb30",
   "metadata": {},
   "outputs": [],
   "source": [
    " for node in nodes:\n",
    "        folium.Marker([node[1], node[0]]).add_to(m)"
   ]
  },
  {
   "cell_type": "code",
   "execution_count": 51,
   "id": "63a6aa5c",
   "metadata": {},
   "outputs": [],
   "source": [
    "    # Save the map as an HTML file\n",
    "    m.save('city_map.html')"
   ]
  },
  {
   "cell_type": "code",
   "execution_count": 52,
   "id": "601fb1f1",
   "metadata": {},
   "outputs": [
    {
     "name": "stdout",
     "output_type": "stream",
     "text": [
      "No nodes found for the specified city.\n"
     ]
    }
   ],
   "source": [
    "# Check if nodes list is not empty\n",
    "if nodes:\n",
    "    # Calculate average latitudes and longitudes\n",
    "    avg_latitude = sum([n[1] for n in nodes])/len(nodes)\n",
    "    avg_longitude = sum([n[0] for n in nodes])/len(nodes)\n",
    "\n",
    "    # Create Folium map\n",
    "    m = folium.Map(location=[avg_latitude, avg_longitude], zoom_start=14)\n",
    "\n",
    "    # Add markers for nodes to the map\n",
    "    for node in nodes:\n",
    "        folium.Marker([node[1], node[0]]).add_to(m)\n",
    "\n",
    "    # Save the map as an HTML file\n",
    "    m.save('kathmandu_map.html')\n",
    "\n",
    "    # Create a new .osc file with only the nodes within the city boundaries\n",
    "    new_file_path = 'kathmandu.osc'\n",
    "    with open(new_file_path, 'wb') as f:\n",
    "        writer = osmium.SimpleWriter(f)\n",
    "        for node in nodes:\n",
    "            writer.add_node(osmium.osm.Node(\n",
    "                id=None, location=osmium.osm.Location(node[1], node[0]), tags=None))\n",
    "        writer.close()\n",
    "    print(f\"City data saved as {new_file_path}\")\n",
    "else:\n",
    "    print(\"No nodes found for the specified city.\")"
   ]
  },
  {
   "cell_type": "code",
   "execution_count": null,
   "id": "b945eab7",
   "metadata": {},
   "outputs": [],
   "source": []
  }
 ],
 "metadata": {
  "kernelspec": {
   "display_name": "Python 3 (ipykernel)",
   "language": "python",
   "name": "python3"
  },
  "language_info": {
   "codemirror_mode": {
    "name": "ipython",
    "version": 3
   },
   "file_extension": ".py",
   "mimetype": "text/x-python",
   "name": "python",
   "nbconvert_exporter": "python",
   "pygments_lexer": "ipython3",
   "version": "3.9.12"
  }
 },
 "nbformat": 4,
 "nbformat_minor": 5
}
