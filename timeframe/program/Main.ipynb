{
 "cells": [
  {
   "cell_type": "code",
   "execution_count": 1,
   "id": "4ddd200a",
   "metadata": {},
   "outputs": [],
   "source": [
    "import osmium"
   ]
  },
  {
   "cell_type": "code",
   "execution_count": 2,
   "id": "7bdb04a2",
   "metadata": {},
   "outputs": [
    {
     "name": "stdout",
     "output_type": "stream",
     "text": [
      "Collecting folium\n",
      "  Downloading folium-0.14.0-py2.py3-none-any.whl (102 kB)\n",
      "     ------------------------------------ 102.3/102.3 kB 590.0 kB/s eta 0:00:00\n",
      "Collecting branca>=0.6.0 (from folium)\n",
      "  Downloading branca-0.6.0-py3-none-any.whl (24 kB)\n",
      "Requirement already satisfied: jinja2>=2.9 in c:\\users\\97798\\anaconda3\\lib\\site-packages (from folium) (2.11.3)\n",
      "Requirement already satisfied: numpy in c:\\users\\97798\\anaconda3\\lib\\site-packages (from folium) (1.24.2)\n",
      "Requirement already satisfied: requests in c:\\users\\97798\\anaconda3\\lib\\site-packages (from folium) (2.23.0)\n",
      "Requirement already satisfied: MarkupSafe>=0.23 in c:\\users\\97798\\anaconda3\\lib\\site-packages (from jinja2>=2.9->folium) (2.0.1)\n",
      "Requirement already satisfied: chardet<4,>=3.0.2 in c:\\users\\97798\\anaconda3\\lib\\site-packages (from requests->folium) (3.0.4)\n",
      "Requirement already satisfied: idna<3,>=2.5 in c:\\users\\97798\\anaconda3\\lib\\site-packages (from requests->folium) (2.10)\n",
      "Requirement already satisfied: urllib3!=1.25.0,!=1.25.1,<1.26,>=1.21.1 in c:\\users\\97798\\anaconda3\\lib\\site-packages (from requests->folium) (1.25.11)\n",
      "Requirement already satisfied: certifi>=2017.4.17 in c:\\users\\97798\\anaconda3\\lib\\site-packages (from requests->folium) (2021.10.8)\n",
      "Installing collected packages: branca, folium\n",
      "Successfully installed branca-0.6.0 folium-0.14.0\n",
      "Note: you may need to restart the kernel to use updated packages.\n"
     ]
    }
   ],
   "source": [
    "pip install folium"
   ]
  },
  {
   "cell_type": "code",
   "execution_count": 1,
   "id": "49a98f45",
   "metadata": {},
   "outputs": [],
   "source": [
    "import osmium\n",
    "import folium"
   ]
  },
  {
   "cell_type": "code",
   "execution_count": 2,
   "id": "19e30cdc",
   "metadata": {},
   "outputs": [],
   "source": [
    "# Define custom handler to process .osc file\n",
    "class MyHandler(osmium.SimpleHandler):\n",
    "    def __init__(self):\n",
    "        super().__init__()\n",
    "        self.nodes = []\n",
    "\n",
    "    def node(self, n):\n",
    "        # Extract node coordinates and add to list\n",
    "        self.nodes.append((n.location.lon, n.location.lat))"
   ]
  },
  {
   "cell_type": "code",
   "execution_count": 4,
   "id": "b3a1be3e",
   "metadata": {},
   "outputs": [],
   "source": [
    "handler = MyHandler()\n",
    "reader = osmium.io.Reader('C:/Users/97798/Desktop/office/timeframe/195.osc')\n",
    "osmium.apply(reader, handler)\n",
    "reader.close()"
   ]
  },
  {
   "cell_type": "code",
   "execution_count": 5,
   "id": "361e6b6a",
   "metadata": {},
   "outputs": [],
   "source": [
    "# Extract node coordinates from handler\n",
    "nodes = handler.nodes"
   ]
  },
  {
   "cell_type": "code",
   "execution_count": 6,
   "id": "08411a47",
   "metadata": {},
   "outputs": [],
   "source": [
    "# Create Folium map\n",
    "m = folium.Map(location=[sum([n[1] for n in nodes])/len(nodes), sum([n[0] for n in nodes])/len(nodes)], zoom_start=14)"
   ]
  },
  {
   "cell_type": "code",
   "execution_count": 7,
   "id": "e4a345b6",
   "metadata": {},
   "outputs": [],
   "source": [
    "# Add markers for nodes to the map\n",
    "for node in nodes:\n",
    "    folium.Marker([node[1], node[0]]).add_to(m)"
   ]
  },
  {
   "cell_type": "code",
   "execution_count": 8,
   "id": "b36b7e00",
   "metadata": {},
   "outputs": [],
   "source": [
    "m.save('map.html')"
   ]
  },
  {
   "cell_type": "code",
   "execution_count": null,
   "id": "a1236813",
   "metadata": {},
   "outputs": [],
   "source": []
  }
 ],
 "metadata": {
  "kernelspec": {
   "display_name": "Python 3 (ipykernel)",
   "language": "python",
   "name": "python3"
  },
  "language_info": {
   "codemirror_mode": {
    "name": "ipython",
    "version": 3
   },
   "file_extension": ".py",
   "mimetype": "text/x-python",
   "name": "python",
   "nbconvert_exporter": "python",
   "pygments_lexer": "ipython3",
   "version": "3.9.12"
  }
 },
 "nbformat": 4,
 "nbformat_minor": 5
}
