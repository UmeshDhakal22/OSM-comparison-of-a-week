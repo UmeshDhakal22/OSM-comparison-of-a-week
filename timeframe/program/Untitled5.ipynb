{
 "cells": [
  {
   "cell_type": "code",
   "execution_count": 1,
   "id": "9fd3f760",
   "metadata": {},
   "outputs": [],
   "source": [
    "import osmium"
   ]
  },
  {
   "cell_type": "code",
   "execution_count": 2,
   "id": "fe9f2a06",
   "metadata": {},
   "outputs": [],
   "source": [
    "osm_file1 = \"C:/Users/97798/Desktop/office/nepal.osm.pbf\""
   ]
  },
  {
   "cell_type": "code",
   "execution_count": 3,
   "id": "becb7d19",
   "metadata": {},
   "outputs": [],
   "source": [
    "reader1 = osmium.io.Reader(osm_file1)"
   ]
  },
  {
   "cell_type": "code",
   "execution_count": 4,
   "id": "b48de77e",
   "metadata": {},
   "outputs": [],
   "source": [
    "num_nodes1 = 0"
   ]
  },
  {
   "cell_type": "code",
   "execution_count": 6,
   "id": "7c4fb3b9",
   "metadata": {},
   "outputs": [],
   "source": [
    "class NodeCounter(osmium.SimpleHandler):\n",
    "    def __init__(self):\n",
    "        super(NodeCounter, self).__init__()\n",
    "        self.num_nodes = 0"
   ]
  },
  {
   "cell_type": "code",
   "execution_count": 7,
   "id": "533e5a85",
   "metadata": {},
   "outputs": [],
   "source": [
    "def node(self, n):\n",
    "        self.num_nodes += 1"
   ]
  },
  {
   "cell_type": "code",
   "execution_count": 8,
   "id": "1df21be0",
   "metadata": {},
   "outputs": [],
   "source": [
    "handler1 = NodeCounter()"
   ]
  },
  {
   "cell_type": "code",
   "execution_count": 9,
   "id": "d170bcd6",
   "metadata": {},
   "outputs": [],
   "source": [
    "reader1 = osmium.io.Reader(osm_file1)\n",
    "osmium.apply(reader1, handler1)\n",
    "reader1.close()"
   ]
  },
  {
   "cell_type": "code",
   "execution_count": null,
   "id": "a2f573ce",
   "metadata": {},
   "outputs": [],
   "source": []
  }
 ],
 "metadata": {
  "kernelspec": {
   "display_name": "Python 3 (ipykernel)",
   "language": "python",
   "name": "python3"
  },
  "language_info": {
   "codemirror_mode": {
    "name": "ipython",
    "version": 3
   },
   "file_extension": ".py",
   "mimetype": "text/x-python",
   "name": "python",
   "nbconvert_exporter": "python",
   "pygments_lexer": "ipython3",
   "version": "3.9.12"
  }
 },
 "nbformat": 4,
 "nbformat_minor": 5
}
