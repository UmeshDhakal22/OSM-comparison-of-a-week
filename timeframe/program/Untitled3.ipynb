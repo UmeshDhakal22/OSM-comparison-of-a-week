{
 "cells": [
  {
   "cell_type": "raw",
   "id": "a6cda6fc",
   "metadata": {},
   "source": [
    "import osmnx as ox"
   ]
  },
  {
   "cell_type": "code",
   "execution_count": 1,
   "id": "73546d26",
   "metadata": {},
   "outputs": [],
   "source": [
    "import osmnx as ox"
   ]
  },
  {
   "cell_type": "code",
   "execution_count": 2,
   "id": "462b72d6",
   "metadata": {},
   "outputs": [],
   "source": [
    "import datetime as dt"
   ]
  },
  {
   "cell_type": "code",
   "execution_count": 3,
   "id": "20406957",
   "metadata": {},
   "outputs": [],
   "source": [
    "from_date = dt.date(2023, 1, 1)\n",
    "to_date = dt.date(2023, 4, 22)"
   ]
  },
  {
   "cell_type": "code",
   "execution_count": 6,
   "id": "c004ee8f",
   "metadata": {},
   "outputs": [
    {
     "ename": "TypeError",
     "evalue": "graph_from_bbox() got an unexpected keyword argument 'date'",
     "output_type": "error",
     "traceback": [
      "\u001b[1;31m---------------------------------------------------------------------------\u001b[0m",
      "\u001b[1;31mTypeError\u001b[0m                                 Traceback (most recent call last)",
      "Input \u001b[1;32mIn [6]\u001b[0m, in \u001b[0;36m<cell line: 1>\u001b[1;34m()\u001b[0m\n\u001b[1;32m----> 1\u001b[0m graph_from \u001b[38;5;241m=\u001b[39m \u001b[43mox\u001b[49m\u001b[38;5;241;43m.\u001b[39;49m\u001b[43mgraph_from_bbox\u001b[49m\u001b[43m(\u001b[49m\u001b[38;5;241;43m27.6440\u001b[39;49m\u001b[43m,\u001b[49m\u001b[43m \u001b[49m\u001b[38;5;241;43m27.7340\u001b[39;49m\u001b[43m,\u001b[49m\u001b[43m \u001b[49m\u001b[38;5;241;43m85.2600\u001b[39;49m\u001b[43m,\u001b[49m\u001b[43m \u001b[49m\u001b[38;5;241;43m85.3650\u001b[39;49m\u001b[43m,\u001b[49m\u001b[43m \u001b[49m\u001b[43mnetwork_type\u001b[49m\u001b[38;5;241;43m=\u001b[39;49m\u001b[38;5;124;43m'\u001b[39;49m\u001b[38;5;124;43mall\u001b[39;49m\u001b[38;5;124;43m'\u001b[39;49m\u001b[43m,\u001b[49m\u001b[43m \u001b[49m\u001b[43mdate\u001b[49m\u001b[38;5;241;43m=\u001b[39;49m\u001b[43mfrom_date\u001b[49m\u001b[43m)\u001b[49m\n\u001b[0;32m      2\u001b[0m graph_to \u001b[38;5;241m=\u001b[39m ox\u001b[38;5;241m.\u001b[39mgraph_from_bbox(\u001b[38;5;241m27.6440\u001b[39m, \u001b[38;5;241m27.7340\u001b[39m, \u001b[38;5;241m85.2600\u001b[39m, \u001b[38;5;241m85.3650\u001b[39m, network_type\u001b[38;5;241m=\u001b[39m\u001b[38;5;124m'\u001b[39m\u001b[38;5;124mall\u001b[39m\u001b[38;5;124m'\u001b[39m, date\u001b[38;5;241m=\u001b[39mto_date)\n",
      "\u001b[1;31mTypeError\u001b[0m: graph_from_bbox() got an unexpected keyword argument 'date'"
     ]
    }
   ],
   "source": [
    "graph_from = ox.graph_from_bbox(27.6440, 27.7340, 85.2600, 85.3650, network_type='all', date=from_date)\n",
    "graph_to = ox.graph_from_bbox(27.6440, 27.7340, 85.2600, 85.3650, network_type='all', date=to_date)"
   ]
  },
  {
   "cell_type": "code",
   "execution_count": 7,
   "id": "4686ecb3",
   "metadata": {},
   "outputs": [
    {
     "ename": "AttributeError",
     "evalue": "module 'osmnx' has no attribute 'graph_diff'",
     "output_type": "error",
     "traceback": [
      "\u001b[1;31m---------------------------------------------------------------------------\u001b[0m",
      "\u001b[1;31mAttributeError\u001b[0m                            Traceback (most recent call last)",
      "Input \u001b[1;32mIn [7]\u001b[0m, in \u001b[0;36m<cell line: 1>\u001b[1;34m()\u001b[0m\n\u001b[1;32m----> 1\u001b[0m \u001b[43mox\u001b[49m\u001b[38;5;241;43m.\u001b[39;49m\u001b[43mgraph_diff\u001b[49m(graph_from, graph_to)\n",
      "\u001b[1;31mAttributeError\u001b[0m: module 'osmnx' has no attribute 'graph_diff'"
     ]
    }
   ],
   "source": [
    "ox.graph_diff(graph_from, graph_to)"
   ]
  },
  {
   "cell_type": "code",
   "execution_count": 8,
   "id": "ec5c23d3",
   "metadata": {},
   "outputs": [
    {
     "name": "stdout",
     "output_type": "stream",
     "text": [
      "Collecting osmium\n",
      "  Downloading osmium-3.6.0-cp39-cp39-win_amd64.whl (1.3 MB)\n",
      "     ---------------------------------------- 1.3/1.3 MB 2.1 MB/s eta 0:00:00\n",
      "Requirement already satisfied: requests in c:\\users\\97798\\anaconda3\\lib\\site-packages (from osmium) (2.23.0)\n",
      "Requirement already satisfied: chardet<4,>=3.0.2 in c:\\users\\97798\\anaconda3\\lib\\site-packages (from requests->osmium) (3.0.4)\n",
      "Requirement already satisfied: idna<3,>=2.5 in c:\\users\\97798\\anaconda3\\lib\\site-packages (from requests->osmium) (2.10)\n",
      "Requirement already satisfied: urllib3!=1.25.0,!=1.25.1,<1.26,>=1.21.1 in c:\\users\\97798\\anaconda3\\lib\\site-packages (from requests->osmium) (1.25.11)\n",
      "Requirement already satisfied: certifi>=2017.4.17 in c:\\users\\97798\\anaconda3\\lib\\site-packages (from requests->osmium) (2021.10.8)\n",
      "Installing collected packages: osmium\n",
      "Successfully installed osmium-3.6.0\n",
      "Note: you may need to restart the kernel to use updated packages.\n"
     ]
    }
   ],
   "source": [
    "pip install osmium"
   ]
  },
  {
   "cell_type": "code",
   "execution_count": 9,
   "id": "9c6bf23b",
   "metadata": {},
   "outputs": [
    {
     "name": "stdout",
     "output_type": "stream",
     "text": [
      "Note: you may need to restart the kernel to use updated packages.\n"
     ]
    },
    {
     "name": "stderr",
     "output_type": "stream",
     "text": [
      "ERROR: Could not find a version that satisfies the requirement pyosmium (from versions: none)\n",
      "ERROR: No matching distribution found for pyosmium\n"
     ]
    }
   ],
   "source": [
    "pip install pyosmium"
   ]
  },
  {
   "cell_type": "code",
   "execution_count": null,
   "id": "2470c74a",
   "metadata": {},
   "outputs": [],
   "source": []
  }
 ],
 "metadata": {
  "kernelspec": {
   "display_name": "Python 3 (ipykernel)",
   "language": "python",
   "name": "python3"
  },
  "language_info": {
   "codemirror_mode": {
    "name": "ipython",
    "version": 3
   },
   "file_extension": ".py",
   "mimetype": "text/x-python",
   "name": "python",
   "nbconvert_exporter": "python",
   "pygments_lexer": "ipython3",
   "version": "3.9.12"
  }
 },
 "nbformat": 4,
 "nbformat_minor": 5
}
