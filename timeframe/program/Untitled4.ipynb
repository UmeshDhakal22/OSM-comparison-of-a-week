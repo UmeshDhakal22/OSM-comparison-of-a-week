{
 "cells": [
  {
   "cell_type": "code",
   "execution_count": 3,
   "id": "6108b36b",
   "metadata": {},
   "outputs": [],
   "source": [
    "import osmium"
   ]
  },
  {
   "cell_type": "code",
   "execution_count": 4,
   "id": "431b3c88",
   "metadata": {},
   "outputs": [],
   "source": [
    "osm_file1 = \"C:/Users/97798/Desktop/office/nepal.osm.pbf\""
   ]
  },
  {
   "cell_type": "code",
   "execution_count": 5,
   "id": "b6537383",
   "metadata": {},
   "outputs": [],
   "source": [
    "reader1 = osmium.io.Reader(osm_file1)"
   ]
  },
  {
   "cell_type": "code",
   "execution_count": 6,
   "id": "6d580d66",
   "metadata": {},
   "outputs": [],
   "source": [
    "handler1 = osmium.SimpleHandler()"
   ]
  },
  {
   "cell_type": "code",
   "execution_count": 7,
   "id": "7f2be9eb",
   "metadata": {},
   "outputs": [],
   "source": [
    "osmium.apply(reader1, handler1)"
   ]
  },
  {
   "cell_type": "code",
   "execution_count": 8,
   "id": "a5e8b05e",
   "metadata": {},
   "outputs": [
    {
     "ename": "AttributeError",
     "evalue": "'osmium._osmium.SimpleHandler' object has no attribute 'stats'",
     "output_type": "error",
     "traceback": [
      "\u001b[1;31m---------------------------------------------------------------------------\u001b[0m",
      "\u001b[1;31mAttributeError\u001b[0m                            Traceback (most recent call last)",
      "Input \u001b[1;32mIn [8]\u001b[0m, in \u001b[0;36m<cell line: 1>\u001b[1;34m()\u001b[0m\n\u001b[1;32m----> 1\u001b[0m num_nodes1 \u001b[38;5;241m=\u001b[39m \u001b[43mhandler1\u001b[49m\u001b[38;5;241;43m.\u001b[39;49m\u001b[43mstats\u001b[49m()\u001b[38;5;241m.\u001b[39mnode_count\n",
      "\u001b[1;31mAttributeError\u001b[0m: 'osmium._osmium.SimpleHandler' object has no attribute 'stats'"
     ]
    }
   ],
   "source": [
    "num_nodes1 = handler1.stats().node_count"
   ]
  },
  {
   "cell_type": "code",
   "execution_count": null,
   "id": "4516c45e",
   "metadata": {},
   "outputs": [],
   "source": []
  }
 ],
 "metadata": {
  "kernelspec": {
   "display_name": "Python 3 (ipykernel)",
   "language": "python",
   "name": "python3"
  },
  "language_info": {
   "codemirror_mode": {
    "name": "ipython",
    "version": 3
   },
   "file_extension": ".py",
   "mimetype": "text/x-python",
   "name": "python",
   "nbconvert_exporter": "python",
   "pygments_lexer": "ipython3",
   "version": "3.9.12"
  }
 },
 "nbformat": 4,
 "nbformat_minor": 5
}
