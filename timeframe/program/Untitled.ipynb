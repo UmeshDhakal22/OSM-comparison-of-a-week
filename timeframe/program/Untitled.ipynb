{
 "cells": [
  {
   "cell_type": "code",
   "execution_count": 1,
   "id": "9733ae92",
   "metadata": {},
   "outputs": [
    {
     "name": "stdout",
     "output_type": "stream",
     "text": [
      "Name: geos\n",
      "Version: 0.2.3\n",
      "Summary: Map server to view, measure and print maps in a web browserand to display maps as an overlay in google earth.\n",
      "Home-page: https://github.com/grst/geos\n",
      "Author: Gregor Sturm\n",
      "Author-email: mail@gregor-sturm.de\n",
      "License: GPLv3\n",
      "Location: c:\\users\\97798\\anaconda3\\lib\\site-packages\n",
      "Requires: flask, lxml, pillow\n",
      "Required-by: \n",
      "Note: you may need to restart the kernel to use updated packages.\n"
     ]
    }
   ],
   "source": [
    "pip show geos"
   ]
  },
  {
   "cell_type": "code",
   "execution_count": 2,
   "id": "d22d450a",
   "metadata": {},
   "outputs": [
    {
     "name": "stdout",
     "output_type": "stream",
     "text": [
      "Collecting osmpyNote: you may need to restart the kernel to use updated packages.\n"
     ]
    },
    {
     "name": "stderr",
     "output_type": "stream",
     "text": [
      "  error: subprocess-exited-with-error\n",
      "  \n",
      "  python setup.py egg_info did not run successfully.\n",
      "  exit code: 1\n",
      "  \n",
      "  [10 lines of output]\n",
      "  Traceback (most recent call last):\n",
      "    File \"<string>\", line 2, in <module>\n",
      "    File \"<pip-setuptools-caller>\", line 34, in <module>\n",
      "    File \"C:\\Users\\97798\\AppData\\Local\\Temp\\pip-install-i4ot4i1r\\shapely_06642103600d4851a820d3fe39affd1c\\setup.py\", line 85, in <module>\n",
      "      from shapely._buildcfg import geos_version_string, geos_version, \\\n",
      "    File \"C:\\Users\\97798\\AppData\\Local\\Temp\\pip-install-i4ot4i1r\\shapely_06642103600d4851a820d3fe39affd1c\\shapely\\_buildcfg.py\", line 205, in <module>\n",
      "      lgeos = CDLL(\"geos_c.dll\")\n",
      "    File \"C:\\Users\\97798\\anaconda3\\lib\\ctypes\\__init__.py\", line 382, in __init__\n",
      "      self._handle = _dlopen(self._name, mode)\n",
      "  FileNotFoundError: Could not find module 'geos_c.dll' (or one of its dependencies). Try using the full path with constructor syntax.\n",
      "  [end of output]\n",
      "  \n",
      "  note: This error originates from a subprocess, and is likely not a problem with pip.\n",
      "error: metadata-generation-failed\n",
      "\n",
      "Encountered error while generating package metadata.\n",
      "\n",
      "See above for output.\n",
      "\n",
      "note: This is an issue with the package mentioned above, not pip.\n",
      "hint: See above for details.\n"
     ]
    },
    {
     "name": "stdout",
     "output_type": "stream",
     "text": [
      "\n",
      "  Using cached osmpy-0.2.0-py3-none-any.whl (5.2 kB)\n",
      "Collecting geojson==2.5.0 (from osmpy)\n",
      "  Using cached geojson-2.5.0-py2.py3-none-any.whl (14 kB)\n",
      "Collecting pandas<2.0.0,>=1.0.0 (from osmpy)\n",
      "  Using cached pandas-1.5.3-cp39-cp39-win_amd64.whl (10.9 MB)\n",
      "Requirement already satisfied: pyproj in c:\\users\\97798\\appdata\\roaming\\python\\python39\\site-packages (from osmpy) (3.5.0)\n",
      "Collecting requests==2.23.0 (from osmpy)\n",
      "  Using cached requests-2.23.0-py2.py3-none-any.whl (58 kB)\n",
      "Collecting retry (from osmpy)\n",
      "  Using cached retry-0.9.2-py2.py3-none-any.whl (8.0 kB)\n",
      "Collecting shapely==1.7.0 (from osmpy)\n",
      "  Using cached Shapely-1.7.0.tar.gz (349 kB)\n",
      "  Preparing metadata (setup.py): started\n",
      "  Preparing metadata (setup.py): finished with status 'error'\n"
     ]
    }
   ],
   "source": [
    "pip install osmpy"
   ]
  },
  {
   "cell_type": "code",
   "execution_count": 3,
   "id": "ea68ad94",
   "metadata": {},
   "outputs": [
    {
     "name": "stdout",
     "output_type": "stream",
     "text": [
      "Collecting osmpyNote: you may need to restart the kernel to use updated packages.\n"
     ]
    },
    {
     "name": "stderr",
     "output_type": "stream",
     "text": [
      "  error: subprocess-exited-with-error\n",
      "  \n",
      "  python setup.py egg_info did not run successfully.\n",
      "  exit code: 1\n",
      "  \n",
      "  [10 lines of output]\n",
      "  Traceback (most recent call last):\n",
      "    File \"<string>\", line 2, in <module>\n",
      "    File \"<pip-setuptools-caller>\", line 34, in <module>\n",
      "    File \"C:\\Users\\97798\\AppData\\Local\\Temp\\pip-install-4z_y11o3\\shapely_810919e1e884417eb2528c0e9a1471aa\\setup.py\", line 85, in <module>\n",
      "      from shapely._buildcfg import geos_version_string, geos_version, \\\n",
      "    File \"C:\\Users\\97798\\AppData\\Local\\Temp\\pip-install-4z_y11o3\\shapely_810919e1e884417eb2528c0e9a1471aa\\shapely\\_buildcfg.py\", line 205, in <module>\n",
      "      lgeos = CDLL(\"geos_c.dll\")\n",
      "    File \"C:\\Users\\97798\\anaconda3\\lib\\ctypes\\__init__.py\", line 382, in __init__\n",
      "      self._handle = _dlopen(self._name, mode)\n",
      "  FileNotFoundError: Could not find module 'geos_c.dll' (or one of its dependencies). Try using the full path with constructor syntax.\n",
      "  [end of output]\n",
      "  \n",
      "  note: This error originates from a subprocess, and is likely not a problem with pip.\n",
      "error: metadata-generation-failed\n",
      "\n",
      "Encountered error while generating package metadata.\n",
      "\n",
      "See above for output.\n",
      "\n",
      "note: This is an issue with the package mentioned above, not pip.\n",
      "hint: See above for details.\n"
     ]
    },
    {
     "name": "stdout",
     "output_type": "stream",
     "text": [
      "\n",
      "  Using cached osmpy-0.2.0-py3-none-any.whl (5.2 kB)\n",
      "Collecting geojson==2.5.0 (from osmpy)\n",
      "  Using cached geojson-2.5.0-py2.py3-none-any.whl (14 kB)\n",
      "Collecting pandas<2.0.0,>=1.0.0 (from osmpy)\n",
      "  Using cached pandas-1.5.3-cp39-cp39-win_amd64.whl (10.9 MB)\n",
      "Requirement already satisfied: pyproj in c:\\users\\97798\\appdata\\roaming\\python\\python39\\site-packages (from osmpy) (3.5.0)\n",
      "Collecting requests==2.23.0 (from osmpy)\n",
      "  Using cached requests-2.23.0-py2.py3-none-any.whl (58 kB)\n",
      "Collecting retry (from osmpy)\n",
      "  Using cached retry-0.9.2-py2.py3-none-any.whl (8.0 kB)\n",
      "Collecting shapely==1.7.0 (from osmpy)\n",
      "  Using cached Shapely-1.7.0.tar.gz (349 kB)\n",
      "  Preparing metadata (setup.py): started\n",
      "  Preparing metadata (setup.py): finished with status 'error'\n"
     ]
    }
   ],
   "source": [
    "pip install osmpy"
   ]
  },
  {
   "cell_type": "code",
   "execution_count": 4,
   "id": "47efb70a",
   "metadata": {},
   "outputs": [],
   "source": [
    "import os\n",
    "from ctypes import CDLL\n",
    "\n",
    "# Specify the path of the geos_c.dll file\n",
    "dll_path = 'C:/Users/97798/anaconda3/Lib/site-packages/geos/geos_c.dll'  # Replace with the actual path of your geos_c.dll file\n",
    "\n",
    "# Load the geos_c.dll library\n",
    "geos = CDLL(dll_path)"
   ]
  },
  {
   "cell_type": "code",
   "execution_count": 5,
   "id": "48ada12d",
   "metadata": {},
   "outputs": [
    {
     "name": "stdout",
     "output_type": "stream",
     "text": [
      "Collecting osmpy\n",
      "Note: you may need to restart the kernel to use updated packages.\n"
     ]
    },
    {
     "name": "stderr",
     "output_type": "stream",
     "text": [
      "  error: subprocess-exited-with-error\n",
      "  \n",
      "  python setup.py egg_info did not run successfully.\n",
      "  exit code: 1\n",
      "  \n",
      "  [10 lines of output]\n",
      "  Traceback (most recent call last):\n",
      "    File \"<string>\", line 2, in <module>\n",
      "    File \"<pip-setuptools-caller>\", line 34, in <module>\n",
      "    File \"C:\\Users\\97798\\AppData\\Local\\Temp\\pip-install-onr_im4y\\shapely_241b614f072843d7a6da38cc7f4ebf8d\\setup.py\", line 85, in <module>\n",
      "      from shapely._buildcfg import geos_version_string, geos_version, \\\n",
      "    File \"C:\\Users\\97798\\AppData\\Local\\Temp\\pip-install-onr_im4y\\shapely_241b614f072843d7a6da38cc7f4ebf8d\\shapely\\_buildcfg.py\", line 205, in <module>\n"
     ]
    },
    {
     "name": "stdout",
     "output_type": "stream",
     "text": [
      "  Using cached osmpy-0.2.0-py3-none-any.whl (5.2 kB)\n",
      "Collecting geojson==2.5.0 (from osmpy)\n",
      "  Using cached geojson-2.5.0-py2.py3-none-any.whl (14 kB)\n",
      "Collecting pandas<2.0.0,>=1.0.0 (from osmpy)\n",
      "  Using cached pandas-1.5.3-cp39-cp39-win_amd64.whl (10.9 MB)\n",
      "Requirement already satisfied: pyproj in c:\\users\\97798\\appdata\\roaming\\python\\python39\\site-packages (from osmpy) (3.5.0)\n",
      "Collecting requests==2.23.0 (from osmpy)\n",
      "  Using cached requests-2.23.0-py2.py3-none-any.whl (58 kB)\n",
      "Collecting retry (from osmpy)\n",
      "  Using cached retry-0.9.2-py2.py3-none-any.whl (8.0 kB)\n",
      "Collecting shapely==1.7.0 (from osmpy)\n",
      "  Using cached Shapely-1.7.0.tar.gz (349 kB)\n",
      "  Preparing metadata (setup.py): started\n",
      "  Preparing metadata (setup.py): finished with status 'error'\n"
     ]
    },
    {
     "name": "stderr",
     "output_type": "stream",
     "text": [
      "      lgeos = CDLL(\"geos_c.dll\")\n",
      "    File \"C:\\Users\\97798\\anaconda3\\lib\\ctypes\\__init__.py\", line 382, in __init__\n",
      "      self._handle = _dlopen(self._name, mode)\n",
      "  FileNotFoundError: Could not find module 'geos_c.dll' (or one of its dependencies). Try using the full path with constructor syntax.\n",
      "  [end of output]\n",
      "  \n",
      "  note: This error originates from a subprocess, and is likely not a problem with pip.\n",
      "error: metadata-generation-failed\n",
      "\n",
      "Encountered error while generating package metadata.\n",
      "\n",
      "See above for output.\n",
      "\n",
      "note: This is an issue with the package mentioned above, not pip.\n",
      "hint: See above for details.\n"
     ]
    }
   ],
   "source": [
    "pip install osmpy"
   ]
  },
  {
   "cell_type": "code",
   "execution_count": 1,
   "id": "1f2b1949",
   "metadata": {},
   "outputs": [
    {
     "name": "stdout",
     "output_type": "stream",
     "text": [
      "Collecting osmpyNote: you may need to restart the kernel to use updated packages.\n",
      "  Using cached osmpy-0.2.0-py3-none-any.whl (5.2 kB)\n",
      "Collecting geojson==2.5.0 (from osmpy)\n",
      "  Using cached geojson-2.5.0-py2.py3-none-any.whl (14 kB)\n",
      "Collecting pandas<2.0.0,>=1.0.0 (from osmpy)\n",
      "  Using cached pandas-1.5.3-cp39-cp39-win_amd64.whl (10.9 MB)\n",
      "Requirement already satisfied: pyproj in c:\\users\\97798\\appdata\\roaming\\python\\python39\\site-packages (from osmpy) (3.5.0)\n",
      "Collecting requests==2.23.0 (from osmpy)\n",
      "\n"
     ]
    },
    {
     "name": "stderr",
     "output_type": "stream",
     "text": [
      "  error: subprocess-exited-with-error\n",
      "  \n"
     ]
    },
    {
     "name": "stdout",
     "output_type": "stream",
     "text": [
      "  Using cached requests-2.23.0-py2.py3-none-any.whl (58 kB)\n",
      "Collecting retry (from osmpy)\n",
      "  Using cached retry-0.9.2-py2.py3-none-any.whl (8.0 kB)\n",
      "Collecting shapely==1.7.0 (from osmpy)\n",
      "  Using cached Shapely-1.7.0.tar.gz (349 kB)\n",
      "  Preparing metadata (setup.py): started\n",
      "  Preparing metadata (setup.py): finished with status 'error'\n"
     ]
    },
    {
     "name": "stderr",
     "output_type": "stream",
     "text": [
      "  python setup.py egg_info did not run successfully.\n",
      "  exit code: 1\n",
      "  \n",
      "  [10 lines of output]\n",
      "  Traceback (most recent call last):\n",
      "    File \"<string>\", line 2, in <module>\n",
      "    File \"<pip-setuptools-caller>\", line 34, in <module>\n",
      "    File \"C:\\Users\\97798\\AppData\\Local\\Temp\\pip-install-9ai9les9\\shapely_d21acd0855b74649830de2818cf8888a\\setup.py\", line 85, in <module>\n",
      "      from shapely._buildcfg import geos_version_string, geos_version, \\\n",
      "    File \"C:\\Users\\97798\\AppData\\Local\\Temp\\pip-install-9ai9les9\\shapely_d21acd0855b74649830de2818cf8888a\\shapely\\_buildcfg.py\", line 205, in <module>\n",
      "      lgeos = CDLL(\"geos_c.dll\")\n",
      "    File \"C:\\Users\\97798\\anaconda3\\lib\\ctypes\\__init__.py\", line 382, in __init__\n",
      "      self._handle = _dlopen(self._name, mode)\n",
      "  FileNotFoundError: Could not find module 'geos_c.dll' (or one of its dependencies). Try using the full path with constructor syntax.\n",
      "  [end of output]\n",
      "  \n",
      "  note: This error originates from a subprocess, and is likely not a problem with pip.\n",
      "error: metadata-generation-failed\n",
      "\n",
      "Encountered error while generating package metadata.\n",
      "\n",
      "See above for output.\n",
      "\n",
      "note: This is an issue with the package mentioned above, not pip.\n",
      "hint: See above for details.\n"
     ]
    }
   ],
   "source": [
    "pip install osmpy"
   ]
  },
  {
   "cell_type": "code",
   "execution_count": 1,
   "id": "5e7e9b10",
   "metadata": {},
   "outputs": [
    {
     "name": "stdout",
     "output_type": "stream",
     "text": [
      "Collecting osmpy\n",
      "  Using cached osmpy-0.2.0-py3-none-any.whl (5.2 kB)\n",
      "Collecting geojson==2.5.0 (from osmpy)\n",
      "  Using cached geojson-2.5.0-py2.py3-none-any.whl (14 kB)\n",
      "Collecting pandas<2.0.0,>=1.0.0 (from osmpy)\n",
      "  Using cached pandas-1.5.3-cp39-cp39-win_amd64.whl (10.9 MB)\n",
      "Requirement already satisfied: pyproj in c:\\users\\97798\\appdata\\roaming\\python\\python39\\site-packages (from osmpy) (3.5.0)\n",
      "Collecting requests==2.23.0 (from osmpy)\n",
      "  Using cached requests-2.23.0-py2.py3-none-any.whl (58 kB)\n",
      "Collecting retry (from osmpy)\n",
      "  Using cached retry-0.9.2-py2.py3-none-any.whl (8.0 kB)\n",
      "Collecting shapely==1.7.0 (from osmpy)\n",
      "  Using cached Shapely-1.7.0.tar.gz (349 kB)\n",
      "  Preparing metadata (setup.py): started\n",
      "  Preparing metadata (setup.py): finished with status 'done'\n",
      "Collecting chardet<4,>=3.0.2 (from requests==2.23.0->osmpy)\n",
      "  Downloading chardet-3.0.4-py2.py3-none-any.whl (133 kB)\n",
      "     ------------------------------------- 133.4/133.4 kB 52.9 kB/s eta 0:00:00\n",
      "Collecting idna<3,>=2.5 (from requests==2.23.0->osmpy)\n",
      "  Downloading idna-2.10-py2.py3-none-any.whl (58 kB)\n",
      "     ---------------------------------------- 58.8/58.8 kB 1.6 MB/s eta 0:00:00\n",
      "Collecting urllib3!=1.25.0,!=1.25.1,<1.26,>=1.21.1 (from requests==2.23.0->osmpy)\n",
      "  Downloading urllib3-1.25.11-py2.py3-none-any.whl (127 kB)\n",
      "     -------------------------------------- 128.0/128.0 kB 1.1 MB/s eta 0:00:00\n",
      "Requirement already satisfied: certifi>=2017.4.17 in c:\\users\\97798\\anaconda3\\lib\\site-packages (from requests==2.23.0->osmpy) (2021.10.8)\n",
      "Requirement already satisfied: python-dateutil>=2.8.1 in c:\\users\\97798\\anaconda3\\lib\\site-packages (from pandas<2.0.0,>=1.0.0->osmpy) (2.8.2)\n",
      "Requirement already satisfied: pytz>=2020.1 in c:\\users\\97798\\anaconda3\\lib\\site-packages (from pandas<2.0.0,>=1.0.0->osmpy) (2021.3)\n",
      "Collecting numpy>=1.20.3 (from pandas<2.0.0,>=1.0.0->osmpy)\n",
      "  Using cached numpy-1.24.2-cp39-cp39-win_amd64.whl (14.9 MB)\n",
      "Requirement already satisfied: decorator>=3.4.2 in c:\\users\\97798\\anaconda3\\lib\\site-packages (from retry->osmpy) (5.1.1)\n",
      "Requirement already satisfied: py<2.0.0,>=1.4.26 in c:\\users\\97798\\anaconda3\\lib\\site-packages (from retry->osmpy) (1.11.0)\n",
      "Requirement already satisfied: six>=1.5 in c:\\users\\97798\\anaconda3\\lib\\site-packages (from python-dateutil>=2.8.1->pandas<2.0.0,>=1.0.0->osmpy) (1.16.0)\n",
      "Building wheels for collected packages: shapely\n",
      "  Building wheel for shapely (setup.py): started\n",
      "  Building wheel for shapely (setup.py): finished with status 'done'\n",
      "  Created wheel for shapely: filename=Shapely-1.7.0-py2.py3-none-any.whl size=272727 sha256=8746aff70a2c52c7d1e4767767cb668d5b6087f75ac21ccbe84cdd9ef0e42d70\n",
      "  Stored in directory: c:\\users\\97798\\appdata\\local\\pip\\cache\\wheels\\02\\de\\ca\\805986c93820b04a3783bff783f90f6bb69b4c4ae81408a3e9\n",
      "Successfully built shapely\n",
      "Installing collected packages: shapely, geojson, chardet, urllib3, retry, numpy, idna, requests, pandas, osmpy\n",
      "  Attempting uninstall: shapely\n",
      "    Found existing installation: shapely 2.0.1\n",
      "    Uninstalling shapely-2.0.1:\n",
      "      Successfully uninstalled shapely-2.0.1\n",
      "  Attempting uninstall: geojson\n",
      "    Found existing installation: geojson 3.0.1\n",
      "    Uninstalling geojson-3.0.1:\n",
      "      Successfully uninstalled geojson-3.0.1\n",
      "  Attempting uninstall: chardet\n",
      "    Found existing installation: chardet 4.0.0\n",
      "    Uninstalling chardet-4.0.0:\n",
      "      Successfully uninstalled chardet-4.0.0\n",
      "  Attempting uninstall: urllib3\n",
      "    Found existing installation: urllib3 1.26.9\n",
      "    Uninstalling urllib3-1.26.9:\n",
      "      Successfully uninstalled urllib3-1.26.9\n",
      "  Attempting uninstall: numpy\n",
      "    Found existing installation: numpy 1.19.3\n",
      "    Uninstalling numpy-1.19.3:\n",
      "      Successfully uninstalled numpy-1.19.3\n",
      "  Attempting uninstall: idna\n",
      "    Found existing installation: idna 3.3\n",
      "    Uninstalling idna-3.3:\n",
      "      Successfully uninstalled idna-3.3\n",
      "  Attempting uninstall: requests\n",
      "    Found existing installation: requests 2.28.2\n",
      "    Uninstalling requests-2.28.2:\n",
      "      Successfully uninstalled requests-2.28.2\n",
      "  Attempting uninstall: pandas\n",
      "    Found existing installation: pandas 2.0.0\n",
      "    Uninstalling pandas-2.0.0:\n",
      "      Successfully uninstalled pandas-2.0.0\n",
      "Successfully installed chardet-3.0.4 geojson-2.5.0 idna-2.10 numpy-1.24.2 osmpy-0.2.0 pandas-1.4.2 requests-2.23.0 retry-0.9.2 shapely-1.7.0 urllib3-1.25.11\n",
      "Note: you may need to restart the kernel to use updated packages.\n"
     ]
    },
    {
     "name": "stderr",
     "output_type": "stream",
     "text": [
      "ERROR: pip's dependency resolver does not currently take into account all the packages that are installed. This behaviour is the source of the following dependency conflicts.\n",
      "anaconda-project 0.10.2 requires ruamel-yaml, which is not installed.\n",
      "conda-repo-cli 1.0.4 requires pathlib, which is not installed.\n",
      "daal4py 2021.5.0 requires daal==2021.4.0, which is not installed.\n",
      "spyder 5.1.5 requires pyqt5<5.13, which is not installed.\n",
      "spyder 5.1.5 requires pyqtwebengine<5.13, which is not installed.\n",
      "osmnx 1.3.0 requires requests>=2.28, but you have requests 2.23.0 which is incompatible.\n",
      "osmnx 1.3.0 requires Shapely>=2.0, but you have shapely 1.7.0 which is incompatible.\n",
      "jupyter-server 1.13.5 requires pywinpty<2; os_name == \"nt\", but you have pywinpty 2.0.2 which is incompatible.\n",
      "numba 0.55.1 requires numpy<1.22,>=1.18, but you have numpy 1.24.2 which is incompatible.\n"
     ]
    }
   ],
   "source": [
    "pip install osmpy"
   ]
  },
  {
   "cell_type": "code",
   "execution_count": 2,
   "id": "30b2a2ab",
   "metadata": {},
   "outputs": [
    {
     "name": "stdout",
     "output_type": "stream",
     "text": [
      "Name: osmpy\n",
      "Version: 0.2.0\n",
      "Summary: Powerfull wrapper around OSM Overpass Turbo to query regions of any size and shape\n",
      "Home-page: https://github.com/JoaoCarabetta/osmpy\n",
      "Author: Joao Carabetta\n",
      "Author-email: joao.carabetta@gmail.com\n",
      "License: AM-331-A3 Licencia de Software\n",
      "Location: c:\\users\\97798\\anaconda3\\lib\\site-packages\n",
      "Requires: geojson, pandas, pyproj, requests, retry, shapely\n",
      "Required-by: \n",
      "Note: you may need to restart the kernel to use updated packages.\n"
     ]
    }
   ],
   "source": [
    "pip show osmpy"
   ]
  },
  {
   "cell_type": "code",
   "execution_count": null,
   "id": "902e4eef",
   "metadata": {},
   "outputs": [],
   "source": []
  }
 ],
 "metadata": {
  "kernelspec": {
   "display_name": "Python 3 (ipykernel)",
   "language": "python",
   "name": "python3"
  },
  "language_info": {
   "codemirror_mode": {
    "name": "ipython",
    "version": 3
   },
   "file_extension": ".py",
   "mimetype": "text/x-python",
   "name": "python",
   "nbconvert_exporter": "python",
   "pygments_lexer": "ipython3",
   "version": "3.9.12"
  }
 },
 "nbformat": 4,
 "nbformat_minor": 5
}
