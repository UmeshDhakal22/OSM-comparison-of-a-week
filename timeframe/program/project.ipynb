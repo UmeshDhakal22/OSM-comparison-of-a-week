{
 "cells": [
  {
   "cell_type": "code",
   "execution_count": 16,
   "id": "25036d4d",
   "metadata": {},
   "outputs": [],
   "source": [
    "import osmium\n",
    "import folium\n",
    "import os"
   ]
  },
  {
   "cell_type": "code",
   "execution_count": 17,
   "id": "9d58aa4d",
   "metadata": {},
   "outputs": [],
   "source": [
    "class MyHandler(osmium.SimpleHandler):\n",
    "    def __init__(self):\n",
    "        super().__init__()\n",
    "        self.nodes = []\n",
    "\n",
    "    def node(self, n):\n",
    "        self.nodes.append((n.location.lon, n.location.lat))"
   ]
  },
  {
   "cell_type": "code",
   "execution_count": 18,
   "id": "cc62913b",
   "metadata": {},
   "outputs": [],
   "source": [
    "osc_files = ['C:/Users/97798/Desktop/KLL/timeframe/18.osc',\n",
    "             'C:/Users/97798/Desktop/KLL/timeframe/19.osc',\n",
    "             'C:/Users/97798/Desktop/KLL/timeframe/20.osc',\n",
    "             'C:/Users/97798/Desktop/KLL/timeframe/21.osc',\n",
    "             'C:/Users/97798/Desktop/KLL/timeframe/22.osc',\n",
    "             'C:/Users/97798/Desktop/KLL/timeframe/23.osc',\n",
    "             'C:/Users/97798/Desktop/KLL/timeframe/24.osc',\n",
    "             'C:/Users/97798/Desktop/KLL/timeframe/25.osc']"
   ]
  },
  {
   "cell_type": "code",
   "execution_count": 20,
   "id": "43c72b80",
   "metadata": {},
   "outputs": [],
   "source": [
    "for osc_file in osc_files:\n",
    "    m = folium.Map(location=[27.7172, 85.3240], zoom_start=14)\n",
    "\n",
    "    handler = MyHandler()\n",
    "    reader = osmium.io.Reader(osc_file)\n",
    "    osmium.apply(reader, handler)\n",
    "    reader.close()\n",
    "\n",
    "    nodes = handler.nodes\n",
    "    for node in nodes:\n",
    "        folium.Marker([node[1], node[0]]).add_to(m)\n",
    "\n",
    "    html_file = os.path.splitext(osc_file)[0] + '.html'\n",
    "    m.save(os.path.join(os.path.dirname(osc_file), html_file))"
   ]
  }
 ],
 "metadata": {
  "kernelspec": {
   "display_name": "Python 3 (ipykernel)",
   "language": "python",
   "name": "python3"
  },
  "language_info": {
   "codemirror_mode": {
    "name": "ipython",
    "version": 3
   },
   "file_extension": ".py",
   "mimetype": "text/x-python",
   "name": "python",
   "nbconvert_exporter": "python",
   "pygments_lexer": "ipython3",
   "version": "3.9.12"
  }
 },
 "nbformat": 4,
 "nbformat_minor": 5
}
